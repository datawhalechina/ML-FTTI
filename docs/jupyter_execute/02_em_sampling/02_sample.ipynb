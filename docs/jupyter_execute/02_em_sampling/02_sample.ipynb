{
 "cells": [
  {
   "cell_type": "markdown",
   "id": "c5727cc5",
   "metadata": {},
   "source": [
    "# 抽样理论\n",
    "\n",
    "介绍待填"
   ]
  }
 ],
 "metadata": {
  "jupytext": {
   "text_representation": {
    "format_name": "myst"
   }
  },
  "kernelspec": {
   "display_name": "Python 3",
   "name": "python3"
  },
  "language_info": {
   "codemirror_mode": {
    "name": "ipython",
    "version": 3
   },
   "file_extension": ".py",
   "mimetype": "text/x-python",
   "name": "python",
   "nbconvert_exporter": "python",
   "pygments_lexer": "ipython3",
   "version": "3.8.10"
  },
  "source_map": [
   8
  ]
 },
 "nbformat": 4,
 "nbformat_minor": 5
}